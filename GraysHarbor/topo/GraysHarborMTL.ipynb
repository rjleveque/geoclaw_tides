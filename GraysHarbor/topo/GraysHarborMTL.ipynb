{
 "cells": [
  {
   "cell_type": "markdown",
   "metadata": {},
   "source": [
    "# Grays Harbor Topography\n",
    "\n",
    "Modify topography from the Astoria 1/3\" DEM, which was referenced to MHW, by an approximate adjustment to Mean Tide Level (MTL).  Around Grays Harbor, this adjustment is approximately linear in longitude, as verified separately using the [VDatum software](https://vdatum.noaa.gov/vdatumweb/).  We use the datums at Westport and Aberdeen to estimate the linear function."
   ]
  },
  {
   "cell_type": "code",
   "execution_count": null,
   "metadata": {
    "tags": [
     "hide-py"
    ]
   },
   "outputs": [],
   "source": [
    "%matplotlib inline"
   ]
  },
  {
   "cell_type": "code",
   "execution_count": null,
   "metadata": {},
   "outputs": [],
   "source": [
    "from pylab import *"
   ]
  },
  {
   "cell_type": "code",
   "execution_count": null,
   "metadata": {},
   "outputs": [],
   "source": [
    "from clawpack.geoclaw import topotools"
   ]
  },
  {
   "cell_type": "code",
   "execution_count": null,
   "metadata": {},
   "outputs": [],
   "source": [
    "server = 'https://www.ngdc.noaa.gov/thredds/dodsC/regional/'\n",
    "url_astoria = server + 'astoria_13_mhw_2012.nc'\n",
    "extent = [-124.2, -123.65, 46.8, 47.15]\n",
    "GH_13sec_mhw = topotools.read_netcdf(url_astoria, extent=extent)"
   ]
  },
  {
   "cell_type": "code",
   "execution_count": null,
   "metadata": {},
   "outputs": [],
   "source": [
    "figure(figsize=(13,7))\n",
    "ax = axes()\n",
    "GH_13sec_mhw.crop(coarsen=3).plot(axes=ax)\n",
    "title('Astoria MHW');"
   ]
  },
  {
   "cell_type": "markdown",
   "metadata": {},
   "source": [
    "# Approximate conversion from MHW to MTL\n",
    "\n",
    "Datums at Westport and Aberdeen tide gauges:\n",
    "\n",
    "Datum | Westport | Aberdeen\n",
    "------|----------|------------\n",
    " MHW  | 2.561    |  2.869\n",
    " diff | 1.068    |  1.21\n",
    " MTL  | 1.493    |  1.659\n",
    " diff | 1.068    |  1.21\n",
    " MLW  | 0.425    |  0.449\n",
    " \n",
    "Topo referenced to MHW should be increased by 1.068m at Westport and by 1.21m at Aberdeen to reference to MTL. We use a linear function based on longitude:\n",
    " "
   ]
  },
  {
   "cell_type": "code",
   "execution_count": null,
   "metadata": {},
   "outputs": [],
   "source": [
    "Zmtl = GH_13sec_mhw.Z + (1.068 + (1.21-1.068)*(GH_13sec_mhw.X+124.105)/(-123.85+124.105))"
   ]
  },
  {
   "cell_type": "code",
   "execution_count": null,
   "metadata": {},
   "outputs": [],
   "source": [
    "GH_13sec_mtl = topotools.Topography()\n",
    "GH_13sec_mtl.set_xyZ(GH_13sec_mhw.X, GH_13sec_mhw.Y, Zmtl)"
   ]
  },
  {
   "cell_type": "code",
   "execution_count": null,
   "metadata": {},
   "outputs": [],
   "source": [
    "extent = [-123.9,-123.7,46.93,46.99]\n",
    "figure(figsize=(13,13))\n",
    "ax = subplot(211)\n",
    "GH_13sec_mhw.crop(extent).plot(axes=ax,limits=(-10,10),\n",
    "                              add_colorbar=True, cb_kwargs={'shrink':0.7})\n",
    "title('Topo relative to MHW near Aberdeen')\n",
    "ax = subplot(212)\n",
    "GH_13sec_mtl.crop(extent).plot(axes=ax,limits=(-10,10),\n",
    "                              add_colorbar=True, cb_kwargs={'shrink':0.7})\n",
    "title('Topo relative to MTL near Aberdeen');"
   ]
  },
  {
   "cell_type": "markdown",
   "metadata": {},
   "source": [
    "### Create topo file:"
   ]
  },
  {
   "cell_type": "code",
   "execution_count": null,
   "metadata": {},
   "outputs": [],
   "source": [
    "GH_13sec_mtl.write('GH_13sec_mtl.asc', topo_type=3, \n",
    "                   header_style='asc', Z_format='%10.3f')"
   ]
  },
  {
   "cell_type": "code",
   "execution_count": null,
   "metadata": {},
   "outputs": [],
   "source": []
  }
 ],
 "metadata": {
  "kernelspec": {
   "display_name": "Python 3",
   "language": "python",
   "name": "python3"
  },
  "language_info": {
   "codemirror_mode": {
    "name": "ipython",
    "version": 3
   },
   "file_extension": ".py",
   "mimetype": "text/x-python",
   "name": "python",
   "nbconvert_exporter": "python",
   "pygments_lexer": "ipython3",
   "version": "3.6.10"
  }
 },
 "nbformat": 4,
 "nbformat_minor": 4
}
