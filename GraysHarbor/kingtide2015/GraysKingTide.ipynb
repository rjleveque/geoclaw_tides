{
 "cells": [
  {
   "cell_type": "markdown",
   "metadata": {},
   "source": [
    "# Fetch some tidegauge data\n",
    "\n",
    "Fetch data for the Westport and Aberdeen gauges, from the King tide period of December, 2015."
   ]
  },
  {
   "cell_type": "code",
   "execution_count": null,
   "metadata": {},
   "outputs": [],
   "source": [
    "%pylab inline"
   ]
  },
  {
   "cell_type": "code",
   "execution_count": null,
   "metadata": {},
   "outputs": [],
   "source": [
    "import datetime\n",
    "from scipy.interpolate import interp1d\n",
    "from clawpack.geoclaw import util\n",
    "import clawpack.pyclaw.gauges as gauges"
   ]
  },
  {
   "cell_type": "markdown",
   "metadata": {},
   "source": [
    "## Download tide gauge data for Westport and Aberdeen"
   ]
  },
  {
   "cell_type": "code",
   "execution_count": null,
   "metadata": {},
   "outputs": [],
   "source": [
    "station_westport = '9441102'\n",
    "MLW_westport = -1.068 # m relative to MTL\n",
    "MHW_westport = 1.068  # m relative to MTL\n",
    "\n",
    "station_aberdeen = '9441187'\n",
    "MLW_aberdeen = -1.21  # m relative to MTL\n",
    "MHW_aberdeen = 1.21  # m relative to MTL\n",
    "\n",
    "begin_date = datetime.datetime(2015,12,21)\n",
    "end_date = datetime.datetime(2015,12,26)\n",
    "time_zone = 'GMT'\n",
    "datum = 'MTL'\n",
    "units = 'metric'\n",
    "cache_dir = '.'\n",
    "\n",
    "time_westport, eta_westport, etap_westport = \\\n",
    "    util.fetch_noaa_tide_data(station_westport, begin_date, end_date,\n",
    "                              time_zone, datum, units, cache_dir)\n",
    "\n",
    "time_aberdeen, eta_aberdeen, etap_aberdeen = \\\n",
    "    util.fetch_noaa_tide_data(station_aberdeen, begin_date, end_date,\n",
    "                              time_zone, datum, units, cache_dir)"
   ]
  },
  {
   "cell_type": "code",
   "execution_count": null,
   "metadata": {},
   "outputs": [],
   "source": [
    "figure(figsize=(13,6))\n",
    "plot(time_westport, etap_westport, 'b', label='Westport %s' % station_westport)\n",
    "plot(time_westport, MHW_westport*ones(time_westport.shape),'b--', label=\"MLW/MHW Westport\")\n",
    "plot(time_westport, MLW_westport*ones(time_westport.shape),'b--')\n",
    "\n",
    "plot(time_aberdeen, etap_aberdeen, 'r', label='Aberdeen %s' % station_aberdeen)\n",
    "plot(time_aberdeen, MHW_aberdeen*ones(time_aberdeen.shape),'r--', label=\"MLW/MHW Aberdeen\")\n",
    "plot(time_aberdeen, MLW_aberdeen*ones(time_aberdeen.shape),'r--')\n",
    "\n",
    "grid(True)\n",
    "xticks(rotation=20)\n",
    "legend()\n",
    "title('NOAA predicted tides in Grays Harbor')\n",
    "ylabel('meters relative to %s' % datum);"
   ]
  },
  {
   "cell_type": "markdown",
   "metadata": {},
   "source": [
    "### Convert datetimes to elapsed seconds"
   ]
  },
  {
   "cell_type": "code",
   "execution_count": null,
   "metadata": {},
   "outputs": [],
   "source": [
    "# convert to elapsed seconds:\n",
    "dt_westport = time_westport - time_westport[0]\n",
    "t_westport = array([dt.item().total_seconds() for dt in dt_westport])\n",
    "\n",
    "dt_aberdeen = time_aberdeen - time_aberdeen[0]\n",
    "t_aberdeen = array([dt.item().total_seconds() for dt in dt_aberdeen])"
   ]
  },
  {
   "cell_type": "markdown",
   "metadata": {},
   "source": [
    "## Compute desired ocean forcing"
   ]
  },
  {
   "cell_type": "code",
   "execution_count": null,
   "metadata": {},
   "outputs": [],
   "source": [
    "# lag time so forcing in ocean reaches Westport at desired time:\n",
    "dt_ocean_to_westport = 2700.   # from tests\n",
    "t_ocean = t_westport - dt_ocean_to_westport\n",
    "t = t_ocean\n",
    "\n",
    "# decrease amplitude in ocean based on observed growth:\n",
    "eta_growth_ocean_to_westport = 1.1\n",
    "etap_ocean = etap_westport / eta_growth_ocean_to_westport\n",
    "eta = etap_ocean\n",
    "\n",
    "etap_ocean_fcn = interp1d(t_ocean,etap_ocean,kind='linear')\n",
    "print('Ocean level at t=0 is %.3f m relative to %s' \\\n",
    "        % (etap_ocean_fcn(0), datum))"
   ]
  },
  {
   "cell_type": "code",
   "execution_count": null,
   "metadata": {},
   "outputs": [],
   "source": [
    "figure(figsize=(13,6))\n",
    "plot(t_westport, etap_westport, 'b', label='Westport %s' % station_westport)\n",
    "plot(t_westport, MHW_westport*ones(t_westport.shape),'b--')\n",
    "plot(t_westport, MLW_westport*ones(t_westport.shape),'b--')\n",
    "\n",
    "plot(t_aberdeen, etap_aberdeen, 'r', label='Aberdeen %s' % station_aberdeen)\n",
    "plot(t_aberdeen, MHW_aberdeen*ones(t_aberdeen.shape),'r--')\n",
    "plot(t_aberdeen, MLW_aberdeen*ones(t_aberdeen.shape),'r--')\n",
    "\n",
    "plot(t_ocean, etap_ocean, 'k--', label='Ocean forcing')\n",
    "\n",
    "grid(True)\n",
    "xticks(rotation=20)\n",
    "xlabel('seconds')\n",
    "legend()\n",
    "title('NOAA predicted tides in Grays Harbor and derived ocean forcing')\n",
    "ylabel('meters relative to %s' % datum);"
   ]
  },
  {
   "cell_type": "markdown",
   "metadata": {},
   "source": [
    "## Compute derivative $\\eta'(t)$ to use for ocean forcing term\n",
    "\n",
    "In GeoClaw we add a source term to the mass equation so that it becomes\n",
    "$$\n",
    "h_t + (hu)_x + (hv)_y = \\eta'(t)\n",
    "$$\n",
    "everywhere in the ocean sufficiently far offshore. Starting with the ocean at rest, and in the absence of any propagating waves this gives $h(x,y,t) = \\eta(t)$ in this region, as desired.\n",
    "\n",
    "Create a text file with columns `t, eta(t), etaprime(t)`."
   ]
  },
  {
   "cell_type": "code",
   "execution_count": null,
   "metadata": {},
   "outputs": [],
   "source": [
    "fname = 'tidedata_dec2015.txt'\n",
    "\n",
    "etaprime = (eta[2:]-eta[:-2])/(t[2:]-t[:-2])  # central diff at interior t\n",
    "etaprime = hstack(((eta[1]-eta[0])/(t[1]-t[0]), etaprime, \\\n",
    "                   (eta[-1]-eta[-2])/(t[-1]-t[-2])))\n",
    "\n",
    "d = vstack((t, eta, etaprime)).T\n",
    "\n",
    "mt = d.shape[0]\n",
    "header = '%i  # mt' % mt\n",
    "savetxt(fname, d, header=header, comments='')\n",
    "print('Created ',fname)"
   ]
  },
  {
   "cell_type": "markdown",
   "metadata": {},
   "source": [
    "## Plot GeoClaw results\n",
    "\n",
    "After running the GeoClaw code, plot the simulated gauges together with the observations..."
   ]
  },
  {
   "cell_type": "code",
   "execution_count": null,
   "metadata": {},
   "outputs": [],
   "source": [
    "outdir = '_output'\n",
    "\n",
    "figure(figsize=(13,5))\n",
    "colors = ['b','r','m','g']\n",
    "\n",
    "plot(t_ocean/3600., etap_ocean, color=[.5,.5,.5],\n",
    "     linestyle='--', label='Ocean forcing')\n",
    "\n",
    "for k,gaugeno in enumerate([1102,1187]):\n",
    "    gauge = gauges.GaugeSolution(gaugeno, outdir)\n",
    "    t = gauge.t / 3600.   # convert to hours\n",
    "    q = gauge.q\n",
    "    eta = q[3,:]\n",
    "    if gaugeno==1102:\n",
    "        plot(t, eta, colors[k], label='GeoClaw 1102 - Westport')\n",
    "    elif gaugeno==1187:\n",
    "        plot(t, eta, colors[k], label='GeoClaw 1187 - Aberdeen')\n",
    "    else:\n",
    "        plot(t, eta, colors[k], label='GeoClaw Gauge %s' % gaugeno)\n",
    "        \n",
    "plot(t_westport/3600., etap_westport, 'c', label='NOAA 1102 - Westport')\n",
    "plot(t_aberdeen/3600., etap_aberdeen, 'm', label='NOAA 1187 - Aberdeen')\n",
    "\n",
    "xlim(0,96)\n",
    "ylim(-2.5,2.5)\n",
    "legend(loc='upper left', fontsize=8)\n",
    "xlabel('hours')\n",
    "ylabel('Surface relative to MTL (m)')\n",
    "title('Grays Harbor tides, Dec. 21-26, 2015')\n",
    "grid(True)\n",
    "\n",
    "xlim(0,t[-1])\n",
    "# ticks every 12 hours:\n",
    "xticks(arange(0,t[-1]+0.1,12));"
   ]
  },
  {
   "cell_type": "markdown",
   "metadata": {},
   "source": [
    "## Notes:\n",
    "\n",
    "- In the figure above the dashed black line is the tide expected from the ocean forcing. The blue and red curves show the resulting GeoClaw gauge results at Westport and Aberdeen respectively, while the cyan and magenta curves are the NOAA observations at these gauges.\n",
    "\n",
    "- The simulated gauges show good agreement with the observations.  In particular, the timing of the peak tide arrivals at the two gauges (about 18 minutes later at Aberdeen than Westport) and the greater amplification at Aberdeen are properly modeled."
   ]
  },
  {
   "cell_type": "code",
   "execution_count": null,
   "metadata": {},
   "outputs": [],
   "source": []
  }
 ],
 "metadata": {
  "kernelspec": {
   "display_name": "Python 3",
   "language": "python",
   "name": "python3"
  },
  "language_info": {
   "codemirror_mode": {
    "name": "ipython",
    "version": 3
   },
   "file_extension": ".py",
   "mimetype": "text/x-python",
   "name": "python",
   "nbconvert_exporter": "python",
   "pygments_lexer": "ipython3",
   "version": "3.6.10"
  }
 },
 "nbformat": 4,
 "nbformat_minor": 4
}
