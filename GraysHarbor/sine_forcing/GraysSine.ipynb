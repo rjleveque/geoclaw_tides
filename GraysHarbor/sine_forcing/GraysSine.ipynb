{
 "cells": [
  {
   "cell_type": "markdown",
   "metadata": {},
   "source": [
    "# Grays Harbor Tides with Sine Forcing\n",
    "\n",
    "First run the GeoClaw code and then use this notebook to examine the gauge results.\n",
    "\n",
    "The approach used to model the tide is to apply a source term only offshore, to force the ocean surface level to be some desired tidal motion.  In this example, $\\eta_o(t) = \\sin(2\\pi t / T)$, a pure sine wave with amplitude 1 and period $T = 12\\times 3600 = $ 12 hours, as shown by the dashed line in the gauge time series plots below.  \n",
    "\n",
    "In GeoClaw we add a source term to the mass equation so that it becomes\n",
    "$$\n",
    "h_t + (hu)_x + (hv)_y = \\eta_o'(t)\n",
    "$$\n",
    "everywhere in the ocean sufficiently far offshore. Starting with the ocean at rest, and in the absence of any propagating waves this gives $h(x,y,t) = \\eta_o(t)$ in this region, as desired."
   ]
  },
  {
   "cell_type": "code",
   "execution_count": null,
   "metadata": {},
   "outputs": [],
   "source": [
    "%matplotlib inline"
   ]
  },
  {
   "cell_type": "code",
   "execution_count": null,
   "metadata": {},
   "outputs": [],
   "source": [
    "from pylab import *"
   ]
  },
  {
   "cell_type": "code",
   "execution_count": null,
   "metadata": {},
   "outputs": [],
   "source": [
    "from IPython.display import Image\n",
    "import clawpack.pyclaw.gauges as gauges"
   ]
  },
  {
   "cell_type": "code",
   "execution_count": null,
   "metadata": {},
   "outputs": [],
   "source": [
    "figure(400, figsize=(13,6))\n",
    "clf()\n",
    "colors = ['k','b','r']\n",
    "\n",
    "outdir = '_output'\n",
    "\n",
    "for k,gaugeno in enumerate([0,1102,1187]):\n",
    "    gauge = gauges.GaugeSolution(gaugeno, outdir)\n",
    "    t = gauge.t / 3600.   # convert to hours\n",
    "    q = gauge.q\n",
    "    eta = q[3,:]\n",
    "    plot(t, eta, colors[k], label='Gauge %s' % gaugeno)\n",
    "\n",
    "    # determine amplification and time shift:\n",
    "    m2 = int(floor(0.75*len(eta)))\n",
    "    eta2 = eta[m2:]  # last part of eta signal\n",
    "    etamax2 = eta2.max()\n",
    "    etamin2 = eta2.min()\n",
    "    t2 = t[m2:]\n",
    "    jtmax = argmax(eta2) \n",
    "    tshift = (t2[jtmax] - 39.)*3600.\n",
    "    \n",
    "    print('At gauge %i, etamin2 = %.3f, etamax2 = %.3f at tshift = %.1f s' \\\n",
    "            % (gaugeno,etamin2,etamax2,tshift))\n",
    "\n",
    "# forcing:\n",
    "tperiod = 12\n",
    "eta = 1.*sin(2*pi*t/tperiod)\n",
    "plot(t, eta, 'k--', label='Ocean forcing')\n",
    "\n",
    "legend(loc='upper right')\n",
    "xlabel('hours')\n",
    "ylabel('Surface relative to MTL (m)')\n",
    "grid(True)\n",
    "title('Sine wave forcing in ocean and resulting GeoClaw gauge results');\n",
    "\n",
    "xticks(arange(0,t[-1]+0.1,12))\n",
    "xlim(0,60)\n",
    "\n",
    "if 1:\n",
    "    fname = 'GaugeComparison.png'\n",
    "    savefig(fname, bbox_inches='tight')\n",
    "    print('Created %s' % fname)"
   ]
  },
  {
   "cell_type": "markdown",
   "metadata": {},
   "source": [
    "## Notes:\n",
    "\n",
    "- Gauge 0 is offshore and shows that GeoClaw does produce the desired sine wave with this forcing.\n",
    "\n",
    "- Gauges 1102 and 1187 are at the locations of the NOAA tide gauges in Westport and Aberdeen, respectively.  The tide at Westport lags the ocean tide by about 2743 seconds and is amplified relative to the specified ocean tide.  The tide at Aberdeen lags by about 3820 seconds and is further amplified.\n",
    "\n",
    "- The time lag between high tide at Westport and Aberdeen is about $3820-2743 = 1077$ seconds (18 minutes), which agrees well with observations (need to confirm!).\n",
    "\n",
    "- At Westport the amplifcation factor is approximate 1.1 (it is greater for the high tide and less for the low tide).\n",
    "\n",
    "- Given an observed tide at Westport that we want to match, we can shift it by about 2743 seconds and diminish it by a factor 1.1 in order to obtain the $\\eta_o(t)$ to use for forcing the ocean.  This is illustrated in the example `geoclaw_tides/grays_kingtide2015`.\n"
   ]
  },
  {
   "cell_type": "markdown",
   "metadata": {},
   "source": [
    "The image below shows one frame from the computed solution, showing the location of the gauges and also the portion of the ocean that is forced by the full-strength $\\eta_o'(t)$ and the region over which this is tapered linearly in longitude to 0 strength, so that there is no tidal forcing directly at the shore.  Note that the tide in Grays Harbor lags the forced tide in the ocean."
   ]
  },
  {
   "cell_type": "code",
   "execution_count": null,
   "metadata": {},
   "outputs": [],
   "source": [
    "Image('frame0019fig50.png', width=800)"
   ]
  },
  {
   "cell_type": "code",
   "execution_count": null,
   "metadata": {},
   "outputs": [],
   "source": []
  }
 ],
 "metadata": {
  "kernelspec": {
   "display_name": "Python 3",
   "language": "python",
   "name": "python3"
  },
  "language_info": {
   "codemirror_mode": {
    "name": "ipython",
    "version": 3
   },
   "file_extension": ".py",
   "mimetype": "text/x-python",
   "name": "python",
   "nbconvert_exporter": "python",
   "pygments_lexer": "ipython3",
   "version": "3.6.10"
  }
 },
 "nbformat": 4,
 "nbformat_minor": 4
}
